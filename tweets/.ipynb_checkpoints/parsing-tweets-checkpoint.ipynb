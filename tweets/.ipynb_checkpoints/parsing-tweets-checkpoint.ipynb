{
 "cells": [
  {
   "cell_type": "markdown",
   "metadata": {},
   "source": [
    "# Parsing Hydrated COVID-19 Tweets\n",
    "\n",
    "Things are gonna get wet."
   ]
  },
  {
   "cell_type": "code",
   "execution_count": 41,
   "metadata": {},
   "outputs": [],
   "source": [
    "import json\n",
    "import random"
   ]
  },
  {
   "cell_type": "code",
   "execution_count": 63,
   "metadata": {},
   "outputs": [
    {
     "name": "stdout",
     "output_type": "stream",
     "text": [
      "21996\n"
     ]
    }
   ],
   "source": [
    "def _add_numpad(num):\n",
    "    num = str(num)\n",
    "    if len(num) == 1:\n",
    "        return f'0{num}'\n",
    "    return num\n",
    "\n",
    "def load_tweets(year: str, month: str, day: str, hour: str) -> list:\n",
    "    \"\"\"Load tweet texts into a list for given time period.\"\"\"\n",
    "    try:\n",
    "        # Load an entire file of JSON tweets into the notebook as a list of strings.\n",
    "        sample_file = f'{year}-{month}/coronavirus-tweet-id-{year}-{month}-{day}-{hour}.jsonl'\n",
    "        with open(sample_file) as f:\n",
    "            raw_tweets = f.readlines()\n",
    "    except:\n",
    "        # Failed to open file; likely doesn't exist.\n",
    "        return []\n",
    "    # Now we've got a list of strings (tweets), and we can prove it.\n",
    "    assert isinstance(raw_tweets, list)\n",
    "    # So let's parse each of these tweets (as JSON) individually and extract the text from \n",
    "    # each.\n",
    "    tweet_texts = []\n",
    "    for twt in raw_tweets:\n",
    "        parsed_twt = json.loads(twt)\n",
    "        twt_text = parsed_twt['full_text']\n",
    "        tweet_texts.append(twt_text)\n",
    "    return tweet_texts\n",
    "\n",
    "# Load tweets into dictionary, loop through months (folders) and hours (files).\n",
    "# tweet_dict = {}\n",
    "tweet_count = 0\n",
    "year = '2020'\n",
    "for month in [_add_numpad(i) for i in range(1, 13)]:\n",
    "    for day in [_add_numpad(i) for i in range(1, 23)]:\n",
    "#         key = f'{year}-{month}-{day}'\n",
    "        for hour in [_add_numpad(i) for i in range(0, 24)]:\n",
    "            hour_tweets = load_tweets(year, month, day, hour)\n",
    "            tweet_count += len(hour_tweets)\n",
    "#             tweet_dict[key] = tweet_dict.get(key, []) + hour_tweets\n",
    "            \n",
    "print(tweet_count)"
   ]
  },
  {
   "cell_type": "code",
   "execution_count": null,
   "metadata": {},
   "outputs": [],
   "source": [
    "for line in line_generator:\n",
    "    line_object = json.loads(line)\n",
    "## need to put body in the lines below. will also want actor id for second aim and can\n",
    "## add location data here if we decide to do that \n",
    "    actor_id_string = line_object[\"actor\"][\"id\"]\n",
    "    actor_id = int( actor_id_string.split(\":\")[2] )\n",
    "    language_code = line_object[\"twitter_lang\"]"
   ]
  },
  {
   "cell_type": "code",
   "execution_count": 51,
   "metadata": {},
   "outputs": [],
   "source": [
    "def load_tweets(year: str, month: str, day: str, hour: str) -> list:\n",
    "    \"\"\"Load tweet texts into a list for given time period.\"\"\"\n",
    "    sample_file = f'{year}-{month}/coronavirus-tweet-id-{year}-{month}-{day}-{hour}.jsonl'\n",
    "    with open(sample_file) as f:\n",
    "        raw_tweets = f.readlines()\n",
    "    assert isinstance(raw_tweets, list)\n",
    "    tweet_texts = []\n",
    "    for twt in raw_tweets:\n",
    "        parsed_twt = json.loads(twt)\n",
    "        twt_text = parsed_twt['full_text']\n",
    "        tweet_texts.append(twt_text)\n",
    "    return tweet_texts"
   ]
  },
  {
   "cell_type": "code",
   "execution_count": 52,
   "metadata": {},
   "outputs": [
    {
     "name": "stdout",
     "output_type": "stream",
     "text": [
      "Some tweet text: \n",
      "\n",
      " RT @KazuyaJohnson: For my sister\n",
      "\n",
      "Read: https://t.co/WzmBMkIFcg\n"
     ]
    }
   ],
   "source": [
    "tweets = load_tweets(year='2020', month='01', day='21', hour='22')\n",
    "tweet_id = random.randint(0, len(tweets))\n",
    "print('Some tweet text:', '\\n\\n', tweets[tweet_id])"
   ]
  },
  {
   "cell_type": "code",
   "execution_count": 68,
   "metadata": {},
   "outputs": [],
   "source": [
    "tweet_count = 0\n",
    "year = '2020'\n",
    "for month in [_add_numpad(i) for i in range(1, 13)]:\n",
    "    for day in [_add_numpad(i) for i in range(1, 23)]: \n",
    "#         key = f'{year}-{month}-{day}'\n",
    "        for hour in [_add_numpad(i) for i in range(0, 24)]: \n",
    "            hour_tweets = load_tweets(year, month, day, hour)\n",
    "            tweet_count += len(hour_tweets)\n",
    "#             tweet_dict[key] = tweet_dict.get(key, []) + hour_tweets"
   ]
  },
  {
   "cell_type": "code",
   "execution_count": 69,
   "metadata": {},
   "outputs": [
    {
     "name": "stdout",
     "output_type": "stream",
     "text": [
      "Some tweet text: \n",
      "\n",
      " This month's 5-second rule podcast covers outbreaks &amp; how patients &amp; restaurant-goers can report concerns to their local public health. Learn more on https://t.co/jv86wGoo0G or by listening to the podcast: https://t.co/pkJLrOr2iu #outbreaks #publichealth #washyourhands #APIC #IP https://t.co/QseAgaBrik\n"
     ]
    }
   ],
   "source": [
    "tweets = load_tweets(year='2020', month='01', day='21', hour='23')\n",
    "tweet_id = random.randint(0, len(tweets))\n",
    "print('Some tweet text:', '\\n\\n', tweets[tweet_id])"
   ]
  },
  {
   "cell_type": "code",
   "execution_count": 72,
   "metadata": {},
   "outputs": [
    {
     "ename": "IndexError",
     "evalue": "list index out of range",
     "output_type": "error",
     "traceback": [
      "\u001b[0;31m---------------------------------------------------------------------------\u001b[0m",
      "\u001b[0;31mIndexError\u001b[0m                                Traceback (most recent call last)",
      "\u001b[0;32m<ipython-input-72-0175328838ea>\u001b[0m in \u001b[0;36m<module>\u001b[0;34m()\u001b[0m\n\u001b[1;32m      1\u001b[0m \u001b[0mtweets\u001b[0m \u001b[0;34m=\u001b[0m \u001b[0mload_tweets\u001b[0m\u001b[0;34m(\u001b[0m\u001b[0myear\u001b[0m\u001b[0;34m=\u001b[0m\u001b[0;34m'2020'\u001b[0m\u001b[0;34m,\u001b[0m \u001b[0mmonth\u001b[0m\u001b[0;34m=\u001b[0m\u001b[0;34m'01'\u001b[0m\u001b[0;34m,\u001b[0m \u001b[0mday\u001b[0m\u001b[0;34m=\u001b[0m\u001b[0;34m'22'\u001b[0m\u001b[0;34m,\u001b[0m \u001b[0mhour\u001b[0m\u001b[0;34m=\u001b[0m\u001b[0;34m'00'\u001b[0m\u001b[0;34m)\u001b[0m\u001b[0;34m\u001b[0m\u001b[0m\n\u001b[1;32m      2\u001b[0m \u001b[0mtweet_id\u001b[0m \u001b[0;34m=\u001b[0m \u001b[0mrandom\u001b[0m\u001b[0;34m.\u001b[0m\u001b[0mrandint\u001b[0m\u001b[0;34m(\u001b[0m\u001b[0;36m0\u001b[0m\u001b[0;34m,\u001b[0m \u001b[0mlen\u001b[0m\u001b[0;34m(\u001b[0m\u001b[0mtweets\u001b[0m\u001b[0;34m)\u001b[0m\u001b[0;34m)\u001b[0m\u001b[0;34m\u001b[0m\u001b[0m\n\u001b[0;32m----> 3\u001b[0;31m \u001b[0mprint\u001b[0m\u001b[0;34m(\u001b[0m\u001b[0;34m'Some tweet text:'\u001b[0m\u001b[0;34m,\u001b[0m \u001b[0;34m'\\n\\n'\u001b[0m\u001b[0;34m,\u001b[0m \u001b[0mtweets\u001b[0m\u001b[0;34m[\u001b[0m\u001b[0mtweet_id\u001b[0m\u001b[0;34m]\u001b[0m\u001b[0;34m)\u001b[0m\u001b[0;34m\u001b[0m\u001b[0m\n\u001b[0m",
      "\u001b[0;31mIndexError\u001b[0m: list index out of range"
     ]
    }
   ],
   "source": [
    "tweets = load_tweets(year='2020', month='01', day='22', hour='00')\n",
    "tweet_id = random.randint(0, len(tweets))\n",
    "print('Some tweet text:', '\\n\\n', tweets[tweet_id])\n",
    "## not loading? the file is json.gz instead of just json"
   ]
  },
  {
   "cell_type": "code",
   "execution_count": 73,
   "metadata": {},
   "outputs": [
    {
     "ename": "IndexError",
     "evalue": "list index out of range",
     "output_type": "error",
     "traceback": [
      "\u001b[0;31m---------------------------------------------------------------------------\u001b[0m",
      "\u001b[0;31mIndexError\u001b[0m                                Traceback (most recent call last)",
      "\u001b[0;32m<ipython-input-73-a7a60e18437f>\u001b[0m in \u001b[0;36m<module>\u001b[0;34m()\u001b[0m\n\u001b[1;32m      1\u001b[0m \u001b[0mtweets\u001b[0m \u001b[0;34m=\u001b[0m \u001b[0mload_tweets\u001b[0m\u001b[0;34m(\u001b[0m\u001b[0myear\u001b[0m\u001b[0;34m=\u001b[0m\u001b[0;34m'2020'\u001b[0m\u001b[0;34m,\u001b[0m \u001b[0mmonth\u001b[0m\u001b[0;34m=\u001b[0m\u001b[0;34m'01'\u001b[0m\u001b[0;34m,\u001b[0m \u001b[0mday\u001b[0m\u001b[0;34m=\u001b[0m\u001b[0;34m'22'\u001b[0m\u001b[0;34m,\u001b[0m \u001b[0mhour\u001b[0m\u001b[0;34m=\u001b[0m\u001b[0;34m'02'\u001b[0m\u001b[0;34m)\u001b[0m\u001b[0;34m\u001b[0m\u001b[0m\n\u001b[1;32m      2\u001b[0m \u001b[0mtweet_id\u001b[0m \u001b[0;34m=\u001b[0m \u001b[0mrandom\u001b[0m\u001b[0;34m.\u001b[0m\u001b[0mrandint\u001b[0m\u001b[0;34m(\u001b[0m\u001b[0;36m0\u001b[0m\u001b[0;34m,\u001b[0m \u001b[0mlen\u001b[0m\u001b[0;34m(\u001b[0m\u001b[0mtweets\u001b[0m\u001b[0;34m)\u001b[0m\u001b[0;34m)\u001b[0m\u001b[0;34m\u001b[0m\u001b[0m\n\u001b[0;32m----> 3\u001b[0;31m \u001b[0mprint\u001b[0m\u001b[0;34m(\u001b[0m\u001b[0;34m'Some tweet text:'\u001b[0m\u001b[0;34m,\u001b[0m \u001b[0;34m'\\n\\n'\u001b[0m\u001b[0;34m,\u001b[0m \u001b[0mtweets\u001b[0m\u001b[0;34m[\u001b[0m\u001b[0mtweet_id\u001b[0m\u001b[0;34m]\u001b[0m\u001b[0;34m)\u001b[0m\u001b[0;34m\u001b[0m\u001b[0m\n\u001b[0m",
      "\u001b[0;31mIndexError\u001b[0m: list index out of range"
     ]
    }
   ],
   "source": [
    "tweets = load_tweets(year='2020', month='01', day='22', hour='02')\n",
    "tweet_id = random.randint(0, len(tweets))\n",
    "print('Some tweet text:', '\\n\\n', tweets[tweet_id])\n",
    "## also json.gz file"
   ]
  },
  {
   "cell_type": "code",
   "execution_count": 74,
   "metadata": {},
   "outputs": [
    {
     "name": "stdout",
     "output_type": "stream",
     "text": [
      "Some tweet text: \n",
      "\n",
      " I've just read on the CDC website that the Coronavirus is ruled out as SARS or MERS. And the alert level is level 2. Which means, don't cancel plans, but be proactive and cautious. As vegans, not eating fish or meat (where the virus was first detected) I think we will be ok 👌\n"
     ]
    }
   ],
   "source": [
    "tweets = load_tweets(year='2020', month='01', day='22', hour='03')\n",
    "tweet_id = random.randint(0, len(tweets))\n",
    "print('Some tweet text:', '\\n\\n', tweets[tweet_id])"
   ]
  },
  {
   "cell_type": "code",
   "execution_count": 75,
   "metadata": {},
   "outputs": [
    {
     "name": "stdout",
     "output_type": "stream",
     "text": [
      "Some tweet text: \n",
      "\n",
      " @BNODesk @TheLastRefuge2 The coronavirus is not even close to the worst thing China is sending here.\n",
      "\n",
      "What the hell are the WHO and CDC doing about fentanyl? \n",
      "\n",
      "https://t.co/80xRKrK6us\n"
     ]
    }
   ],
   "source": [
    "tweets = load_tweets(year='2020', month='01', day='22', hour='04')\n",
    "tweet_id = random.randint(0, len(tweets))\n",
    "print('Some tweet text:', '\\n\\n', tweets[tweet_id])"
   ]
  },
  {
   "cell_type": "code",
   "execution_count": 76,
   "metadata": {},
   "outputs": [
    {
     "name": "stdout",
     "output_type": "stream",
     "text": [
      "Some tweet text: \n",
      "\n",
      " RT @sallyKP: CORONAVIRUS\n",
      "\n",
      "The fearmongering is strong on this one. Do not be afraid. Just chill out and wash your hands and stay home if yo…\n"
     ]
    }
   ],
   "source": [
    "tweets = load_tweets(year='2020', month='01', day='22', hour='05')\n",
    "tweet_id = random.randint(0, len(tweets))\n",
    "print('Some tweet text:', '\\n\\n', tweets[tweet_id])"
   ]
  },
  {
   "cell_type": "code",
   "execution_count": 77,
   "metadata": {},
   "outputs": [
    {
     "ename": "IndexError",
     "evalue": "list index out of range",
     "output_type": "error",
     "traceback": [
      "\u001b[0;31m---------------------------------------------------------------------------\u001b[0m",
      "\u001b[0;31mIndexError\u001b[0m                                Traceback (most recent call last)",
      "\u001b[0;32m<ipython-input-77-e52bc3762875>\u001b[0m in \u001b[0;36m<module>\u001b[0;34m()\u001b[0m\n\u001b[1;32m      1\u001b[0m \u001b[0mtweets\u001b[0m \u001b[0;34m=\u001b[0m \u001b[0mload_tweets\u001b[0m\u001b[0;34m(\u001b[0m\u001b[0myear\u001b[0m\u001b[0;34m=\u001b[0m\u001b[0;34m'2020'\u001b[0m\u001b[0;34m,\u001b[0m \u001b[0mmonth\u001b[0m\u001b[0;34m=\u001b[0m\u001b[0;34m'01'\u001b[0m\u001b[0;34m,\u001b[0m \u001b[0mday\u001b[0m\u001b[0;34m=\u001b[0m\u001b[0;34m'22'\u001b[0m\u001b[0;34m,\u001b[0m \u001b[0mhour\u001b[0m\u001b[0;34m=\u001b[0m\u001b[0;34m'06'\u001b[0m\u001b[0;34m)\u001b[0m\u001b[0;34m\u001b[0m\u001b[0m\n\u001b[1;32m      2\u001b[0m \u001b[0mtweet_id\u001b[0m \u001b[0;34m=\u001b[0m \u001b[0mrandom\u001b[0m\u001b[0;34m.\u001b[0m\u001b[0mrandint\u001b[0m\u001b[0;34m(\u001b[0m\u001b[0;36m0\u001b[0m\u001b[0;34m,\u001b[0m \u001b[0mlen\u001b[0m\u001b[0;34m(\u001b[0m\u001b[0mtweets\u001b[0m\u001b[0;34m)\u001b[0m\u001b[0;34m)\u001b[0m\u001b[0;34m\u001b[0m\u001b[0m\n\u001b[0;32m----> 3\u001b[0;31m \u001b[0mprint\u001b[0m\u001b[0;34m(\u001b[0m\u001b[0;34m'Some tweet text:'\u001b[0m\u001b[0;34m,\u001b[0m \u001b[0;34m'\\n\\n'\u001b[0m\u001b[0;34m,\u001b[0m \u001b[0mtweets\u001b[0m\u001b[0;34m[\u001b[0m\u001b[0mtweet_id\u001b[0m\u001b[0;34m]\u001b[0m\u001b[0;34m)\u001b[0m\u001b[0;34m\u001b[0m\u001b[0m\n\u001b[0m",
      "\u001b[0;31mIndexError\u001b[0m: list index out of range"
     ]
    }
   ],
   "source": [
    "tweets = load_tweets(year='2020', month='01', day='22', hour='06')\n",
    "tweet_id = random.randint(0, len(tweets))\n",
    "print('Some tweet text:', '\\n\\n', tweets[tweet_id])"
   ]
  },
  {
   "cell_type": "code",
   "execution_count": 78,
   "metadata": {},
   "outputs": [
    {
     "name": "stdout",
     "output_type": "stream",
     "text": [
      "Some tweet text: \n",
      "\n",
      " RT @danharris: BREAKING NEWS. The Coronavirus is now in the United States, in Washington State, where I am.  #coronavirus #China #CDC #seat…\n"
     ]
    }
   ],
   "source": [
    "tweets = load_tweets(year='2020', month='01', day='22', hour='07')\n",
    "tweet_id = random.randint(0, len(tweets))\n",
    "print('Some tweet text:', '\\n\\n', tweets[tweet_id])"
   ]
  },
  {
   "cell_type": "code",
   "execution_count": 79,
   "metadata": {},
   "outputs": [
    {
     "name": "stdout",
     "output_type": "stream",
     "text": [
      "Some tweet text: \n",
      "\n",
      " RT @WHO: WHO situation report on novel #coronavirus (2019-nCoV)- 21 January 2020 https://t.co/LYUB7llmpt \n",
      "\n",
      "(data from 20 January 2020) http…\n"
     ]
    }
   ],
   "source": [
    "tweets = load_tweets(year='2020', month='01', day='22', hour='08')\n",
    "tweet_id = random.randint(0, len(tweets))\n",
    "print('Some tweet text:', '\\n\\n', tweets[tweet_id])"
   ]
  },
  {
   "cell_type": "code",
   "execution_count": 80,
   "metadata": {},
   "outputs": [
    {
     "name": "stdout",
     "output_type": "stream",
     "text": [
      "Some tweet text: \n",
      "\n",
      " This is information that I got from the CDC, and from embarking on my own research. I don’t care about nobody else kid, I can only raise and protect mine. https://t.co/VZtciK67k5\n"
     ]
    }
   ],
   "source": [
    "tweets = load_tweets(year='2020', month='01', day='22', hour='09')\n",
    "tweet_id = random.randint(0, len(tweets))\n",
    "print('Some tweet text:', '\\n\\n', tweets[tweet_id])"
   ]
  },
  {
   "cell_type": "code",
   "execution_count": 81,
   "metadata": {},
   "outputs": [
    {
     "ename": "IndexError",
     "evalue": "list index out of range",
     "output_type": "error",
     "traceback": [
      "\u001b[0;31m---------------------------------------------------------------------------\u001b[0m",
      "\u001b[0;31mIndexError\u001b[0m                                Traceback (most recent call last)",
      "\u001b[0;32m<ipython-input-81-fd8a782db9b6>\u001b[0m in \u001b[0;36m<module>\u001b[0;34m()\u001b[0m\n\u001b[1;32m      1\u001b[0m \u001b[0mtweets\u001b[0m \u001b[0;34m=\u001b[0m \u001b[0mload_tweets\u001b[0m\u001b[0;34m(\u001b[0m\u001b[0myear\u001b[0m\u001b[0;34m=\u001b[0m\u001b[0;34m'2020'\u001b[0m\u001b[0;34m,\u001b[0m \u001b[0mmonth\u001b[0m\u001b[0;34m=\u001b[0m\u001b[0;34m'01'\u001b[0m\u001b[0;34m,\u001b[0m \u001b[0mday\u001b[0m\u001b[0;34m=\u001b[0m\u001b[0;34m'22'\u001b[0m\u001b[0;34m,\u001b[0m \u001b[0mhour\u001b[0m\u001b[0;34m=\u001b[0m\u001b[0;34m'10'\u001b[0m\u001b[0;34m)\u001b[0m\u001b[0;34m\u001b[0m\u001b[0m\n\u001b[1;32m      2\u001b[0m \u001b[0mtweet_id\u001b[0m \u001b[0;34m=\u001b[0m \u001b[0mrandom\u001b[0m\u001b[0;34m.\u001b[0m\u001b[0mrandint\u001b[0m\u001b[0;34m(\u001b[0m\u001b[0;36m0\u001b[0m\u001b[0;34m,\u001b[0m \u001b[0mlen\u001b[0m\u001b[0;34m(\u001b[0m\u001b[0mtweets\u001b[0m\u001b[0;34m)\u001b[0m\u001b[0;34m)\u001b[0m\u001b[0;34m\u001b[0m\u001b[0m\n\u001b[0;32m----> 3\u001b[0;31m \u001b[0mprint\u001b[0m\u001b[0;34m(\u001b[0m\u001b[0;34m'Some tweet text:'\u001b[0m\u001b[0;34m,\u001b[0m \u001b[0;34m'\\n\\n'\u001b[0m\u001b[0;34m,\u001b[0m \u001b[0mtweets\u001b[0m\u001b[0;34m[\u001b[0m\u001b[0mtweet_id\u001b[0m\u001b[0;34m]\u001b[0m\u001b[0;34m)\u001b[0m\u001b[0;34m\u001b[0m\u001b[0m\n\u001b[0m",
      "\u001b[0;31mIndexError\u001b[0m: list index out of range"
     ]
    }
   ],
   "source": [
    "tweets = load_tweets(year='2020', month='01', day='22', hour='10')\n",
    "tweet_id = random.randint(0, len(tweets))\n",
    "print('Some tweet text:', '\\n\\n', tweets[tweet_id])"
   ]
  },
  {
   "cell_type": "code",
   "execution_count": 82,
   "metadata": {},
   "outputs": [
    {
     "name": "stdout",
     "output_type": "stream",
     "text": [
      "Some tweet text: \n",
      "\n",
      " RT @Dystopia992: 🇨🇳 #ChinaPneumonia\n",
      "— The CDC has confirmed the FIRST #US case of Wuhan #coronavirus after a traveler was diagnosed in Seat…\n"
     ]
    }
   ],
   "source": [
    "tweets = load_tweets(year='2020', month='01', day='22', hour='11')\n",
    "tweet_id = random.randint(0, len(tweets))\n",
    "print('Some tweet text:', '\\n\\n', tweets[tweet_id])"
   ]
  },
  {
   "cell_type": "code",
   "execution_count": 83,
   "metadata": {},
   "outputs": [
    {
     "ename": "IndexError",
     "evalue": "list index out of range",
     "output_type": "error",
     "traceback": [
      "\u001b[0;31m---------------------------------------------------------------------------\u001b[0m",
      "\u001b[0;31mIndexError\u001b[0m                                Traceback (most recent call last)",
      "\u001b[0;32m<ipython-input-83-313c9c665675>\u001b[0m in \u001b[0;36m<module>\u001b[0;34m()\u001b[0m\n\u001b[1;32m      1\u001b[0m \u001b[0mtweets\u001b[0m \u001b[0;34m=\u001b[0m \u001b[0mload_tweets\u001b[0m\u001b[0;34m(\u001b[0m\u001b[0myear\u001b[0m\u001b[0;34m=\u001b[0m\u001b[0;34m'2020'\u001b[0m\u001b[0;34m,\u001b[0m \u001b[0mmonth\u001b[0m\u001b[0;34m=\u001b[0m\u001b[0;34m'01'\u001b[0m\u001b[0;34m,\u001b[0m \u001b[0mday\u001b[0m\u001b[0;34m=\u001b[0m\u001b[0;34m'22'\u001b[0m\u001b[0;34m,\u001b[0m \u001b[0mhour\u001b[0m\u001b[0;34m=\u001b[0m\u001b[0;34m'12'\u001b[0m\u001b[0;34m)\u001b[0m\u001b[0;34m\u001b[0m\u001b[0m\n\u001b[1;32m      2\u001b[0m \u001b[0mtweet_id\u001b[0m \u001b[0;34m=\u001b[0m \u001b[0mrandom\u001b[0m\u001b[0;34m.\u001b[0m\u001b[0mrandint\u001b[0m\u001b[0;34m(\u001b[0m\u001b[0;36m0\u001b[0m\u001b[0;34m,\u001b[0m \u001b[0mlen\u001b[0m\u001b[0;34m(\u001b[0m\u001b[0mtweets\u001b[0m\u001b[0;34m)\u001b[0m\u001b[0;34m)\u001b[0m\u001b[0;34m\u001b[0m\u001b[0m\n\u001b[0;32m----> 3\u001b[0;31m \u001b[0mprint\u001b[0m\u001b[0;34m(\u001b[0m\u001b[0;34m'Some tweet text:'\u001b[0m\u001b[0;34m,\u001b[0m \u001b[0;34m'\\n\\n'\u001b[0m\u001b[0;34m,\u001b[0m \u001b[0mtweets\u001b[0m\u001b[0;34m[\u001b[0m\u001b[0mtweet_id\u001b[0m\u001b[0;34m]\u001b[0m\u001b[0;34m)\u001b[0m\u001b[0;34m\u001b[0m\u001b[0m\n\u001b[0m",
      "\u001b[0;31mIndexError\u001b[0m: list index out of range"
     ]
    }
   ],
   "source": [
    "tweets = load_tweets(year='2020', month='01', day='22', hour='12')\n",
    "tweet_id = random.randint(0, len(tweets))\n",
    "print('Some tweet text:', '\\n\\n', tweets[tweet_id])"
   ]
  },
  {
   "cell_type": "code",
   "execution_count": 84,
   "metadata": {},
   "outputs": [
    {
     "name": "stdout",
     "output_type": "stream",
     "text": [
      "Some tweet text: \n",
      "\n",
      " RT @NeoForPresident: Anyone remember when #coronavirus panic was used before to create chaos 🤔\n",
      "\n",
      "2002 / CDC website shows it was 2003 - how…\n"
     ]
    }
   ],
   "source": [
    "tweets = load_tweets(year='2020', month='01', day='22', hour='13')\n",
    "tweet_id = random.randint(0, len(tweets))\n",
    "print('Some tweet text:', '\\n\\n', tweets[tweet_id])"
   ]
  },
  {
   "cell_type": "code",
   "execution_count": 85,
   "metadata": {},
   "outputs": [
    {
     "name": "stdout",
     "output_type": "stream",
     "text": [
      "Some tweet text: \n",
      "\n",
      " Subjective flu like symptoms is common presentation\n",
      "When should you suspect #2019-nCoV? If in the 14 days before symptom onset, patient had a history of travel from Wuhan City, China or close contact with a person who is under investigation for 2019-nCoV while that person was ill https://t.co/yXSSwxuZBU\n"
     ]
    }
   ],
   "source": [
    "tweets = load_tweets(year='2020', month='01', day='22', hour='14')\n",
    "tweet_id = random.randint(0, len(tweets))\n",
    "print('Some tweet text:', '\\n\\n', tweets[tweet_id])"
   ]
  },
  {
   "cell_type": "code",
   "execution_count": 86,
   "metadata": {},
   "outputs": [
    {
     "name": "stdout",
     "output_type": "stream",
     "text": [
      "Some tweet text: \n",
      "\n",
      " RT @SenatorDurbin: Reports of the coronavirus making its way from China to the United States are concerning. I’m glad @CDCgov will be scree…\n"
     ]
    }
   ],
   "source": [
    "tweets = load_tweets(year='2020', month='01', day='22', hour='15')\n",
    "tweet_id = random.randint(0, len(tweets))\n",
    "print('Some tweet text:', '\\n\\n', tweets[tweet_id])"
   ]
  },
  {
   "cell_type": "code",
   "execution_count": 87,
   "metadata": {},
   "outputs": [
    {
     "name": "stdout",
     "output_type": "stream",
     "text": [
      "Some tweet text: \n",
      "\n",
      " RT @WHO: @DrTedros @WHOWPRO @WHOSEARO @pahowho @WHOEMRO @WHO_Europe @WHOAFRO Dr Didier Houssin, chairperson of the International Health Reg…\n"
     ]
    }
   ],
   "source": [
    "tweets = load_tweets(year='2020', month='01', day='22', hour='16')\n",
    "tweet_id = random.randint(0, len(tweets))\n",
    "print('Some tweet text:', '\\n\\n', tweets[tweet_id])"
   ]
  },
  {
   "cell_type": "code",
   "execution_count": 88,
   "metadata": {},
   "outputs": [
    {
     "name": "stdout",
     "output_type": "stream",
     "text": [
      "Some tweet text: \n",
      "\n",
      " RT @ezracheungtoto: More #BREAKING: The Chinese family of five arrived in Hong Kong via the high-speed rail to take a connecting flight to…\n"
     ]
    }
   ],
   "source": [
    "tweets = load_tweets(year='2020', month='01', day='22', hour='17')\n",
    "tweet_id = random.randint(0, len(tweets))\n",
    "print('Some tweet text:', '\\n\\n', tweets[tweet_id])"
   ]
  },
  {
   "cell_type": "code",
   "execution_count": 89,
   "metadata": {},
   "outputs": [
    {
     "name": "stdout",
     "output_type": "stream",
     "text": [
      "Some tweet text: \n",
      "\n",
      " @greenleejw @NYSPTA The CDC can suck it. I've seen what cannabis does for cancer patients, ALS patients, obviously it's tremendously helpful for chemo and pain, and I just can't believe they're still trying to stop it. You don't have to smoke it ffs. UGH sorry.\n"
     ]
    }
   ],
   "source": [
    "tweets = load_tweets(year='2020', month='01', day='22', hour='18')\n",
    "tweet_id = random.randint(0, len(tweets))\n",
    "print('Some tweet text:', '\\n\\n', tweets[tweet_id])"
   ]
  },
  {
   "cell_type": "code",
   "execution_count": 90,
   "metadata": {},
   "outputs": [
    {
     "name": "stdout",
     "output_type": "stream",
     "text": [
      "Some tweet text: \n",
      "\n",
      " RT @WHO: BREAKING: WHO Director-General @DrTedros will convene an Emergency Committee on the novel #coronavirus (2019-nCoV) under the Inter…\n"
     ]
    }
   ],
   "source": [
    "tweets = load_tweets(year='2020', month='01', day='22', hour='19')\n",
    "tweet_id = random.randint(0, len(tweets))\n",
    "print('Some tweet text:', '\\n\\n', tweets[tweet_id])"
   ]
  },
  {
   "cell_type": "code",
   "execution_count": 91,
   "metadata": {},
   "outputs": [
    {
     "name": "stdout",
     "output_type": "stream",
     "text": [
      "Some tweet text: \n",
      "\n",
      " RT @papijackseuniee: @JacksonWang852 Please wear your mask properly. Your black mask isnt gonna be useful. Wear your N95 🙏🙏🙏 this is the nu…\n"
     ]
    }
   ],
   "source": [
    "tweets = load_tweets(year='2020', month='01', day='22', hour='20')\n",
    "tweet_id = random.randint(0, len(tweets))\n",
    "print('Some tweet text:', '\\n\\n', tweets[tweet_id])"
   ]
  },
  {
   "cell_type": "code",
   "execution_count": 92,
   "metadata": {},
   "outputs": [
    {
     "name": "stdout",
     "output_type": "stream",
     "text": [
      "Some tweet text: \n",
      "\n",
      " @crampell Perhaps the opioid epidemic is due almost entirely to practice patterns?\n",
      "\n",
      "There's a lot of chronic pain. Sackler convinced docs that \"new\" opioids are safe. So they prescribed them to ppl who had pain - age, obesity, manual labor. All of these fit demos of current addiction.\n"
     ]
    }
   ],
   "source": [
    "tweets = load_tweets(year='2020', month='01', day='22', hour='21')\n",
    "tweet_id = random.randint(0, len(tweets))\n",
    "print('Some tweet text:', '\\n\\n', tweets[tweet_id])"
   ]
  },
  {
   "cell_type": "code",
   "execution_count": 93,
   "metadata": {},
   "outputs": [
    {
     "ename": "IndexError",
     "evalue": "list index out of range",
     "output_type": "error",
     "traceback": [
      "\u001b[0;31m---------------------------------------------------------------------------\u001b[0m",
      "\u001b[0;31mIndexError\u001b[0m                                Traceback (most recent call last)",
      "\u001b[0;32m<ipython-input-93-7e013476053b>\u001b[0m in \u001b[0;36m<module>\u001b[0;34m()\u001b[0m\n\u001b[1;32m      1\u001b[0m \u001b[0mtweets\u001b[0m \u001b[0;34m=\u001b[0m \u001b[0mload_tweets\u001b[0m\u001b[0;34m(\u001b[0m\u001b[0myear\u001b[0m\u001b[0;34m=\u001b[0m\u001b[0;34m'2020'\u001b[0m\u001b[0;34m,\u001b[0m \u001b[0mmonth\u001b[0m\u001b[0;34m=\u001b[0m\u001b[0;34m'01'\u001b[0m\u001b[0;34m,\u001b[0m \u001b[0mday\u001b[0m\u001b[0;34m=\u001b[0m\u001b[0;34m'22'\u001b[0m\u001b[0;34m,\u001b[0m \u001b[0mhour\u001b[0m\u001b[0;34m=\u001b[0m\u001b[0;34m'22'\u001b[0m\u001b[0;34m)\u001b[0m\u001b[0;34m\u001b[0m\u001b[0m\n\u001b[1;32m      2\u001b[0m \u001b[0mtweet_id\u001b[0m \u001b[0;34m=\u001b[0m \u001b[0mrandom\u001b[0m\u001b[0;34m.\u001b[0m\u001b[0mrandint\u001b[0m\u001b[0;34m(\u001b[0m\u001b[0;36m0\u001b[0m\u001b[0;34m,\u001b[0m \u001b[0mlen\u001b[0m\u001b[0;34m(\u001b[0m\u001b[0mtweets\u001b[0m\u001b[0;34m)\u001b[0m\u001b[0;34m)\u001b[0m\u001b[0;34m\u001b[0m\u001b[0m\n\u001b[0;32m----> 3\u001b[0;31m \u001b[0mprint\u001b[0m\u001b[0;34m(\u001b[0m\u001b[0;34m'Some tweet text:'\u001b[0m\u001b[0;34m,\u001b[0m \u001b[0;34m'\\n\\n'\u001b[0m\u001b[0;34m,\u001b[0m \u001b[0mtweets\u001b[0m\u001b[0;34m[\u001b[0m\u001b[0mtweet_id\u001b[0m\u001b[0;34m]\u001b[0m\u001b[0;34m)\u001b[0m\u001b[0;34m\u001b[0m\u001b[0m\n\u001b[0m",
      "\u001b[0;31mIndexError\u001b[0m: list index out of range"
     ]
    }
   ],
   "source": [
    "tweets = load_tweets(year='2020', month='01', day='22', hour='22')\n",
    "tweet_id = random.randint(0, len(tweets))\n",
    "print('Some tweet text:', '\\n\\n', tweets[tweet_id])"
   ]
  },
  {
   "cell_type": "code",
   "execution_count": 94,
   "metadata": {},
   "outputs": [
    {
     "name": "stdout",
     "output_type": "stream",
     "text": [
      "Some tweet text: \n",
      "\n",
      " RT @john_jxw: We are sharing our initial analysis of the new #Wuhan #coronavirus (with @robertson_lab): #nCoV’s relationship to bat coronav…\n"
     ]
    }
   ],
   "source": [
    "tweets = load_tweets(year='2020', month='01', day='22', hour='23')\n",
    "tweet_id = random.randint(0, len(tweets))\n",
    "print('Some tweet text:', '\\n\\n', tweets[tweet_id])"
   ]
  },
  {
   "cell_type": "code",
   "execution_count": 95,
   "metadata": {},
   "outputs": [
    {
     "name": "stdout",
     "output_type": "stream",
     "text": [
      "Some tweet text: \n",
      "\n",
      " Hey DOCTOR: “CDC Survey Shows Flavors Aren’t Driving Youth Vaping:\n",
      "Over 75 percent of youth vapers apparently don’t care much about flavors, according to the most recent survey conducted by the Centers for Disease Control and Prevention.”\n",
      "https://t.co/C5CRAxPuI5 https://t.co/daP6fVRo5P\n"
     ]
    }
   ],
   "source": [
    "tweets = load_tweets(year='2020', month='01', day='23', hour='00')\n",
    "tweet_id = random.randint(0, len(tweets))\n",
    "print('Some tweet text:', '\\n\\n', tweets[tweet_id])"
   ]
  },
  {
   "cell_type": "code",
   "execution_count": 96,
   "metadata": {},
   "outputs": [
    {
     "name": "stdout",
     "output_type": "stream",
     "text": [
      "Some tweet text: \n",
      "\n",
      " Singapore remains a safe travel destination, and we are taking concrete measures to strengthen our defences against the Novel Coronavirus Pneumonia. Refer to @sporeMOH’s website for more information. https://t.co/KpjDBDaEmJ\n"
     ]
    }
   ],
   "source": [
    "tweets = load_tweets(year='2020', month='01', day='23', hour='01')\n",
    "tweet_id = random.randint(0, len(tweets))\n",
    "print('Some tweet text:', '\\n\\n', tweets[tweet_id])"
   ]
  },
  {
   "cell_type": "code",
   "execution_count": 97,
   "metadata": {},
   "outputs": [
    {
     "name": "stdout",
     "output_type": "stream",
     "text": [
      "Some tweet text: \n",
      "\n",
      " RT @thepainguy: Thought of a different query string and found a couple more names to add to my Pitching Induced Coagulation Syndrome (PICS)…\n"
     ]
    }
   ],
   "source": [
    "tweets = load_tweets(year='2020', month='01', day='23', hour='02')\n",
    "tweet_id = random.randint(0, len(tweets))\n",
    "print('Some tweet text:', '\\n\\n', tweets[tweet_id])"
   ]
  },
  {
   "cell_type": "code",
   "execution_count": 98,
   "metadata": {},
   "outputs": [
    {
     "name": "stdout",
     "output_type": "stream",
     "text": [
      "Some tweet text: \n",
      "\n",
      " *News Headline* \n",
      "“New Corona Virus Epidemic” \n",
      "\n",
      "Some Dal Frat Student probably: Ha Yeah I have a corona epidemic\n"
     ]
    }
   ],
   "source": [
    "tweets = load_tweets(year='2020', month='01', day='23', hour='03')\n",
    "tweet_id = random.randint(0, len(tweets))\n",
    "print('Some tweet text:', '\\n\\n', tweets[tweet_id])"
   ]
  },
  {
   "cell_type": "code",
   "execution_count": 99,
   "metadata": {},
   "outputs": [
    {
     "name": "stdout",
     "output_type": "stream",
     "text": [
      "Some tweet text: \n",
      "\n",
      " RT @piggy_that: Be like Yuuri. Wear a goddamn mask whenever you go out. \n",
      "#WuhanCoronavirus https://t.co/ZAXQBoMosE\n"
     ]
    }
   ],
   "source": [
    "tweets = load_tweets(year='2020', month='01', day='23', hour='04')\n",
    "tweet_id = random.randint(0, len(tweets))\n",
    "print('Some tweet text:', '\\n\\n', tweets[tweet_id])"
   ]
  },
  {
   "cell_type": "code",
   "execution_count": 100,
   "metadata": {},
   "outputs": [
    {
     "ename": "IndexError",
     "evalue": "list index out of range",
     "output_type": "error",
     "traceback": [
      "\u001b[0;31m---------------------------------------------------------------------------\u001b[0m",
      "\u001b[0;31mIndexError\u001b[0m                                Traceback (most recent call last)",
      "\u001b[0;32m<ipython-input-100-73017343aa7b>\u001b[0m in \u001b[0;36m<module>\u001b[0;34m()\u001b[0m\n\u001b[1;32m      1\u001b[0m \u001b[0mtweets\u001b[0m \u001b[0;34m=\u001b[0m \u001b[0mload_tweets\u001b[0m\u001b[0;34m(\u001b[0m\u001b[0myear\u001b[0m\u001b[0;34m=\u001b[0m\u001b[0;34m'2020'\u001b[0m\u001b[0;34m,\u001b[0m \u001b[0mmonth\u001b[0m\u001b[0;34m=\u001b[0m\u001b[0;34m'01'\u001b[0m\u001b[0;34m,\u001b[0m \u001b[0mday\u001b[0m\u001b[0;34m=\u001b[0m\u001b[0;34m'23'\u001b[0m\u001b[0;34m,\u001b[0m \u001b[0mhour\u001b[0m\u001b[0;34m=\u001b[0m\u001b[0;34m'05'\u001b[0m\u001b[0;34m)\u001b[0m\u001b[0;34m\u001b[0m\u001b[0m\n\u001b[1;32m      2\u001b[0m \u001b[0mtweet_id\u001b[0m \u001b[0;34m=\u001b[0m \u001b[0mrandom\u001b[0m\u001b[0;34m.\u001b[0m\u001b[0mrandint\u001b[0m\u001b[0;34m(\u001b[0m\u001b[0;36m0\u001b[0m\u001b[0;34m,\u001b[0m \u001b[0mlen\u001b[0m\u001b[0;34m(\u001b[0m\u001b[0mtweets\u001b[0m\u001b[0;34m)\u001b[0m\u001b[0;34m)\u001b[0m\u001b[0;34m\u001b[0m\u001b[0m\n\u001b[0;32m----> 3\u001b[0;31m \u001b[0mprint\u001b[0m\u001b[0;34m(\u001b[0m\u001b[0;34m'Some tweet text:'\u001b[0m\u001b[0;34m,\u001b[0m \u001b[0;34m'\\n\\n'\u001b[0m\u001b[0;34m,\u001b[0m \u001b[0mtweets\u001b[0m\u001b[0;34m[\u001b[0m\u001b[0mtweet_id\u001b[0m\u001b[0;34m]\u001b[0m\u001b[0;34m)\u001b[0m\u001b[0;34m\u001b[0m\u001b[0m\n\u001b[0m",
      "\u001b[0;31mIndexError\u001b[0m: list index out of range"
     ]
    }
   ],
   "source": [
    "tweets = load_tweets(year='2020', month='01', day='23', hour='05')\n",
    "tweet_id = random.randint(0, len(tweets))\n",
    "print('Some tweet text:', '\\n\\n', tweets[tweet_id])"
   ]
  },
  {
   "cell_type": "code",
   "execution_count": 101,
   "metadata": {},
   "outputs": [
    {
     "name": "stdout",
     "output_type": "stream",
     "text": [
      "Some tweet text: \n",
      "\n",
      " @tfambirai But you know well as i do countries need policies and regulations of their own esply in epidemic and pandemic cases...Zim started screening the SARS Virus before WHO declaration so we can do it again ... almost same equipment used last time\n"
     ]
    }
   ],
   "source": [
    "tweets = load_tweets(year='2020', month='01', day='23', hour='06')\n",
    "tweet_id = random.randint(0, len(tweets))\n",
    "print('Some tweet text:', '\\n\\n', tweets[tweet_id])"
   ]
  },
  {
   "cell_type": "code",
   "execution_count": 102,
   "metadata": {},
   "outputs": [
    {
     "name": "stdout",
     "output_type": "stream",
     "text": [
      "Some tweet text: \n",
      "\n",
      " RT @ZhaoyinFeng: On #WuhanCoronavirus, as soon as the govt loosened info censorship, Chinese media such as Caixin &amp; Beijing News新京报 have ha…\n"
     ]
    }
   ],
   "source": [
    "tweets = load_tweets(year='2020', month='01', day='23', hour='07')\n",
    "tweet_id = random.randint(0, len(tweets))\n",
    "print('Some tweet text:', '\\n\\n', tweets[tweet_id])"
   ]
  },
  {
   "cell_type": "code",
   "execution_count": 103,
   "metadata": {},
   "outputs": [
    {
     "name": "stdout",
     "output_type": "stream",
     "text": [
      "Some tweet text: \n",
      "\n",
      " RT @WHOThailand: WHO Director-General convened a meeting of the IHR (2005) Expert Committee to discuss the novel coronavirus outbreak https…\n"
     ]
    }
   ],
   "source": [
    "tweets = load_tweets(year='2020', month='01', day='23', hour='08')\n",
    "tweet_id = random.randint(0, len(tweets))\n",
    "print('Some tweet text:', '\\n\\n', tweets[tweet_id])"
   ]
  },
  {
   "cell_type": "code",
   "execution_count": 104,
   "metadata": {},
   "outputs": [
    {
     "ename": "IndexError",
     "evalue": "list index out of range",
     "output_type": "error",
     "traceback": [
      "\u001b[0;31m---------------------------------------------------------------------------\u001b[0m",
      "\u001b[0;31mIndexError\u001b[0m                                Traceback (most recent call last)",
      "\u001b[0;32m<ipython-input-104-1c5cc2e0b655>\u001b[0m in \u001b[0;36m<module>\u001b[0;34m()\u001b[0m\n\u001b[1;32m      1\u001b[0m \u001b[0mtweets\u001b[0m \u001b[0;34m=\u001b[0m \u001b[0mload_tweets\u001b[0m\u001b[0;34m(\u001b[0m\u001b[0myear\u001b[0m\u001b[0;34m=\u001b[0m\u001b[0;34m'2020'\u001b[0m\u001b[0;34m,\u001b[0m \u001b[0mmonth\u001b[0m\u001b[0;34m=\u001b[0m\u001b[0;34m'01'\u001b[0m\u001b[0;34m,\u001b[0m \u001b[0mday\u001b[0m\u001b[0;34m=\u001b[0m\u001b[0;34m'23'\u001b[0m\u001b[0;34m,\u001b[0m \u001b[0mhour\u001b[0m\u001b[0;34m=\u001b[0m\u001b[0;34m'09'\u001b[0m\u001b[0;34m)\u001b[0m\u001b[0;34m\u001b[0m\u001b[0m\n\u001b[1;32m      2\u001b[0m \u001b[0mtweet_id\u001b[0m \u001b[0;34m=\u001b[0m \u001b[0mrandom\u001b[0m\u001b[0;34m.\u001b[0m\u001b[0mrandint\u001b[0m\u001b[0;34m(\u001b[0m\u001b[0;36m0\u001b[0m\u001b[0;34m,\u001b[0m \u001b[0mlen\u001b[0m\u001b[0;34m(\u001b[0m\u001b[0mtweets\u001b[0m\u001b[0;34m)\u001b[0m\u001b[0;34m)\u001b[0m\u001b[0;34m\u001b[0m\u001b[0m\n\u001b[0;32m----> 3\u001b[0;31m \u001b[0mprint\u001b[0m\u001b[0;34m(\u001b[0m\u001b[0;34m'Some tweet text:'\u001b[0m\u001b[0;34m,\u001b[0m \u001b[0;34m'\\n\\n'\u001b[0m\u001b[0;34m,\u001b[0m \u001b[0mtweets\u001b[0m\u001b[0;34m[\u001b[0m\u001b[0mtweet_id\u001b[0m\u001b[0;34m]\u001b[0m\u001b[0;34m)\u001b[0m\u001b[0;34m\u001b[0m\u001b[0m\n\u001b[0m",
      "\u001b[0;31mIndexError\u001b[0m: list index out of range"
     ]
    }
   ],
   "source": [
    "tweets = load_tweets(year='2020', month='01', day='23', hour='09')\n",
    "tweet_id = random.randint(0, len(tweets))\n",
    "print('Some tweet text:', '\\n\\n', tweets[tweet_id])"
   ]
  },
  {
   "cell_type": "code",
   "execution_count": 105,
   "metadata": {},
   "outputs": [
    {
     "name": "stdout",
     "output_type": "stream",
     "text": [
      "Some tweet text: \n",
      "\n",
      " THIS REALLY IS HORRIFYING.  WHEN WILL POLITICIANS REALISE THIS IS AN EPIDEMIC WHICH NEEDS  PROPER FUNDING??\n",
      "Victoria Johnston: The horrifying statistics that lie behind our mental health crisis https://t.co/CvWrXD4R5k\n"
     ]
    }
   ],
   "source": [
    "tweets = load_tweets(year='2020', month='01', day='23', hour='10')\n",
    "tweet_id = random.randint(0, len(tweets))\n",
    "print('Some tweet text:', '\\n\\n', tweets[tweet_id])"
   ]
  },
  {
   "cell_type": "code",
   "execution_count": 106,
   "metadata": {},
   "outputs": [
    {
     "name": "stdout",
     "output_type": "stream",
     "text": [
      "Some tweet text: \n",
      "\n",
      " RT @giasison: Never underestimate the power of habits such as handwashing, cough hygiene and if you are sick with fever, cough or colds and…\n"
     ]
    }
   ],
   "source": [
    "tweets = load_tweets(year='2020', month='01', day='23', hour='11')\n",
    "tweet_id = random.randint(0, len(tweets))\n",
    "print('Some tweet text:', '\\n\\n', tweets[tweet_id])"
   ]
  },
  {
   "cell_type": "code",
   "execution_count": 107,
   "metadata": {},
   "outputs": [
    {
     "name": "stdout",
     "output_type": "stream",
     "text": [
      "Some tweet text: \n",
      "\n",
      " RT @SarahBonheur33: @FindingMyPsych @Rectitude20 Hey vegan! Do you even know what is in a vaccine? 💉🦠🧬🐶🐂🐀🐣👶🐖🐒🐓🦙💩☠️\n",
      "💗 Pink: Human aborted fe…\n"
     ]
    }
   ],
   "source": [
    "tweets = load_tweets(year='2020', month='01', day='23', hour='12')\n",
    "tweet_id = random.randint(0, len(tweets))\n",
    "print('Some tweet text:', '\\n\\n', tweets[tweet_id])"
   ]
  },
  {
   "cell_type": "code",
   "execution_count": 108,
   "metadata": {},
   "outputs": [
    {
     "name": "stdout",
     "output_type": "stream",
     "text": [
      "Some tweet text: \n",
      "\n",
      " RT @ForeignPolicy: As a huge city is sealed off to prevent an epidemic, China's poorest workers will suffer most.\n",
      "https://t.co/Ijb9oAxxUQ\n"
     ]
    }
   ],
   "source": [
    "tweets = load_tweets(year='2020', month='01', day='23', hour='13')\n",
    "tweet_id = random.randint(0, len(tweets))\n",
    "print('Some tweet text:', '\\n\\n', tweets[tweet_id])"
   ]
  },
  {
   "cell_type": "code",
   "execution_count": 109,
   "metadata": {},
   "outputs": [
    {
     "name": "stdout",
     "output_type": "stream",
     "text": [
      "Some tweet text: \n",
      "\n",
      " @PyeeHae It works as long as u wear it properly ^^ but yea n95 is uncomfortable if you are not used to it..\n"
     ]
    }
   ],
   "source": [
    "tweets = load_tweets(year='2020', month='01', day='23', hour='14')\n",
    "tweet_id = random.randint(0, len(tweets))\n",
    "print('Some tweet text:', '\\n\\n', tweets[tweet_id])"
   ]
  },
  {
   "cell_type": "code",
   "execution_count": 110,
   "metadata": {},
   "outputs": [
    {
     "name": "stdout",
     "output_type": "stream",
     "text": [
      "Some tweet text: \n",
      "\n",
      " RT @Terremoti7: ⚠️☣⚠️INCREDIBLE!  THE ENTIRE CITY OF WUHAN HAS BEEN QUARANTED AND COMPLETELY ISOLATED.  NO ONE CAN ENTER AND EXIT FROM THE…\n"
     ]
    }
   ],
   "source": [
    "tweets = load_tweets(year='2020', month='01', day='23', hour='15')\n",
    "tweet_id = random.randint(0, len(tweets))\n",
    "print('Some tweet text:', '\\n\\n', tweets[tweet_id])"
   ]
  },
  {
   "cell_type": "code",
   "execution_count": null,
   "metadata": {},
   "outputs": [],
   "source": []
  }
 ],
 "metadata": {
  "kernelspec": {
   "display_name": "conda_python3",
   "language": "python",
   "name": "conda_python3"
  },
  "language_info": {
   "codemirror_mode": {
    "name": "ipython",
    "version": 3
   },
   "file_extension": ".py",
   "mimetype": "text/x-python",
   "name": "python",
   "nbconvert_exporter": "python",
   "pygments_lexer": "ipython3",
   "version": "3.6.5"
  }
 },
 "nbformat": 4,
 "nbformat_minor": 4
}
